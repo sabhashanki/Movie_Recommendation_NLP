{
 "cells": [
  {
   "cell_type": "code",
   "execution_count": null,
   "metadata": {},
   "outputs": [],
   "source": [
    "import pandas as pd\n",
    "import numpy as np\n",
    "from rake_nltk import Rake\n",
    "import string\n",
    "from flask import Flask, request, render_template, jsonify\n",
    "import requests\n",
    "\n",
    "# NLP model \n",
    "\n",
    "df = pd.read_csv('IMDB_Top250Engmovies2_OMDB_Detailed.csv')\n",
    "punc = string.punctuation\n",
    "df.Plot = df.Plot.apply(lambda x : \"\".join([i for i in x if i not in punc]))\n",
    "rake = Rake()\n",
    "df['keywords'] = ''\n",
    "\n",
    "for index, row in df.iterrows():\n",
    "    rake.extract_keywords_from_text(row.Plot)\n",
    "    df['keywords'][index] = list(rake.get_word_degrees().keys())\n",
    "\n",
    "df.Genre = df.Genre.apply(lambda x : x.split(','))\n",
    "df.Actors = df.Actors.apply(lambda x : x.split(',')[:3])\n",
    "df.Director = df.Director.apply(lambda x : x.split(','))\n",
    "\n",
    "df.Genre = df.Genre.apply(lambda x : [i.lower().replace(' ','') for i in x])\n",
    "df.Actors = df.Actors.apply(lambda x : [i.lower().replace(' ','') for i in x])\n",
    "df.Director = df.Director.apply(lambda x : [i.lower().replace(' ','') for i in x])\n",
    "\n",
    "df['BOW'] = ''\n",
    "columns = ['Genre','Director','Actors','keywords']\n",
    "\n",
    "for index, row in df.iterrows():\n",
    "    words = ''\n",
    "    for col in columns:\n",
    "        words += ' '.join(row[col]) + ' '\n",
    "    df.BOW[index] = words\n",
    "\n",
    "\n",
    "df.BOW = df.BOW.str.strip().str.replace('   ', ' ').str.replace('  ', ' ')\n",
    "\n",
    "from sklearn.feature_extraction.text import CountVectorizer\n",
    "from sklearn.metrics.pairwise import cosine_similarity\n",
    "vector = CountVectorizer()\n",
    "vector_matrix = vector.fit_transform(df.BOW)\n",
    "cosine_sim = cosine_similarity(vector_matrix, vector_matrix)\n",
    "\n",
    "title = pd.Series(df.Title)\n",
    "\n",
    "def recommendation(name, cosine_sim = cosine_sim):\n",
    "    recommended_movies = []\n",
    "    idx = title[title == name].index[0]\n",
    "    score = pd.Series(cosine_sim[idx]).sort_values(ascending = False)\n",
    "    top5 = list(score.iloc[1:11].index)\n",
    "\n",
    "    for i in top5:\n",
    "        recommended_movies.append(list(df['Title'])[i])\n",
    "    \n",
    "    return recommended_movies\n",
    "\n",
    "# Flask Application\n",
    "\n",
    "app = Flask(__name__)\n",
    "\n",
    "@app.routine('/', methods = ['GET'])\n",
    "def home():\n",
    "    return render_template('home.html')\n",
    "\n",
    "@app.route('/predict', methods = ['POST'])\n",
    "def predict():\n",
    "\n",
    "    movie_name = request.form['movie']\n",
    "    recom_movies = list(recommendation(movie_name))\n",
    "\n",
    "    return render_template('home.html', prediction_text = f'Recommended Movies are : {recom_movies}')\n",
    "\n",
    "if __name__ == '__main__':\n",
    "    app.run(debug = True)\n"
   ]
  },
  {
   "cell_type": "code",
   "execution_count": null,
   "metadata": {},
   "outputs": [],
   "source": []
  },
  {
   "cell_type": "code",
   "execution_count": null,
   "metadata": {},
   "outputs": [],
   "source": []
  },
  {
   "cell_type": "code",
   "execution_count": null,
   "metadata": {},
   "outputs": [],
   "source": []
  },
  {
   "cell_type": "code",
   "execution_count": null,
   "metadata": {},
   "outputs": [],
   "source": []
  },
  {
   "cell_type": "code",
   "execution_count": null,
   "metadata": {},
   "outputs": [],
   "source": []
  },
  {
   "cell_type": "code",
   "execution_count": null,
   "metadata": {},
   "outputs": [],
   "source": []
  },
  {
   "cell_type": "code",
   "execution_count": null,
   "metadata": {},
   "outputs": [],
   "source": []
  },
  {
   "cell_type": "code",
   "execution_count": null,
   "metadata": {},
   "outputs": [],
   "source": []
  },
  {
   "cell_type": "code",
   "execution_count": null,
   "metadata": {},
   "outputs": [],
   "source": []
  },
  {
   "cell_type": "code",
   "execution_count": null,
   "metadata": {},
   "outputs": [],
   "source": []
  },
  {
   "cell_type": "code",
   "execution_count": null,
   "metadata": {},
   "outputs": [],
   "source": []
  },
  {
   "cell_type": "code",
   "execution_count": null,
   "metadata": {},
   "outputs": [],
   "source": []
  },
  {
   "cell_type": "code",
   "execution_count": null,
   "metadata": {},
   "outputs": [],
   "source": []
  },
  {
   "cell_type": "code",
   "execution_count": null,
   "metadata": {},
   "outputs": [],
   "source": []
  },
  {
   "cell_type": "code",
   "execution_count": null,
   "metadata": {},
   "outputs": [],
   "source": []
  },
  {
   "cell_type": "code",
   "execution_count": null,
   "metadata": {},
   "outputs": [],
   "source": []
  },
  {
   "cell_type": "code",
   "execution_count": null,
   "metadata": {},
   "outputs": [],
   "source": []
  }
 ],
 "metadata": {
  "kernelspec": {
   "display_name": "Python 3.10.7 64-bit",
   "language": "python",
   "name": "python3"
  },
  "language_info": {
   "name": "python",
   "version": "3.10.7"
  },
  "orig_nbformat": 4,
  "vscode": {
   "interpreter": {
    "hash": "30f7c703543b98f74a265370aeedf5f5cf7efc2f0baf29f81611cc4f6bf8c141"
   }
  }
 },
 "nbformat": 4,
 "nbformat_minor": 2
}
