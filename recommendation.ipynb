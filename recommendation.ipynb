{
 "cells": [
  {
   "cell_type": "code",
   "execution_count": 596,
   "metadata": {},
   "outputs": [],
   "source": [
    "import pandas as pd\n",
    "import numpy as np\n",
    "from rake_nltk import Rake"
   ]
  },
  {
   "cell_type": "code",
   "execution_count": 597,
   "metadata": {},
   "outputs": [
    {
     "data": {
      "text/html": [
       "<div>\n",
       "<style scoped>\n",
       "    .dataframe tbody tr th:only-of-type {\n",
       "        vertical-align: middle;\n",
       "    }\n",
       "\n",
       "    .dataframe tbody tr th {\n",
       "        vertical-align: top;\n",
       "    }\n",
       "\n",
       "    .dataframe thead th {\n",
       "        text-align: right;\n",
       "    }\n",
       "</style>\n",
       "<table border=\"1\" class=\"dataframe\">\n",
       "  <thead>\n",
       "    <tr style=\"text-align: right;\">\n",
       "      <th></th>\n",
       "      <th>Unnamed: 0</th>\n",
       "      <th>Title</th>\n",
       "      <th>Year</th>\n",
       "      <th>Rated</th>\n",
       "      <th>Released</th>\n",
       "      <th>Runtime</th>\n",
       "      <th>Genre</th>\n",
       "      <th>Director</th>\n",
       "      <th>Writer</th>\n",
       "      <th>Actors</th>\n",
       "      <th>...</th>\n",
       "      <th>tomatoConsensus</th>\n",
       "      <th>tomatoUserMeter</th>\n",
       "      <th>tomatoUserRating</th>\n",
       "      <th>tomatoUserReviews</th>\n",
       "      <th>tomatoURL</th>\n",
       "      <th>DVD</th>\n",
       "      <th>BoxOffice</th>\n",
       "      <th>Production</th>\n",
       "      <th>Website</th>\n",
       "      <th>Response</th>\n",
       "    </tr>\n",
       "  </thead>\n",
       "  <tbody>\n",
       "    <tr>\n",
       "      <th>0</th>\n",
       "      <td>1</td>\n",
       "      <td>The Shawshank Redemption</td>\n",
       "      <td>1994</td>\n",
       "      <td>R</td>\n",
       "      <td>14 Oct 1994</td>\n",
       "      <td>142 min</td>\n",
       "      <td>Crime, Drama</td>\n",
       "      <td>Frank Darabont</td>\n",
       "      <td>Stephen King (short story \"Rita Hayworth and S...</td>\n",
       "      <td>Tim Robbins, Morgan Freeman, Bob Gunton, Willi...</td>\n",
       "      <td>...</td>\n",
       "      <td>NaN</td>\n",
       "      <td>NaN</td>\n",
       "      <td>NaN</td>\n",
       "      <td>NaN</td>\n",
       "      <td>http://www.rottentomatoes.com/m/shawshank_rede...</td>\n",
       "      <td>27 Jan 1998</td>\n",
       "      <td>NaN</td>\n",
       "      <td>Columbia Pictures</td>\n",
       "      <td>NaN</td>\n",
       "      <td>True</td>\n",
       "    </tr>\n",
       "    <tr>\n",
       "      <th>1</th>\n",
       "      <td>2</td>\n",
       "      <td>The Godfather</td>\n",
       "      <td>1972</td>\n",
       "      <td>R</td>\n",
       "      <td>24 Mar 1972</td>\n",
       "      <td>175 min</td>\n",
       "      <td>Crime, Drama</td>\n",
       "      <td>Francis Ford Coppola</td>\n",
       "      <td>Mario Puzo (screenplay), Francis Ford Coppola ...</td>\n",
       "      <td>Marlon Brando, Al Pacino, James Caan, Richard ...</td>\n",
       "      <td>...</td>\n",
       "      <td>NaN</td>\n",
       "      <td>NaN</td>\n",
       "      <td>NaN</td>\n",
       "      <td>NaN</td>\n",
       "      <td>http://www.rottentomatoes.com/m/godfather/</td>\n",
       "      <td>09 Oct 2001</td>\n",
       "      <td>NaN</td>\n",
       "      <td>Paramount Pictures</td>\n",
       "      <td>http://www.thegodfather.com</td>\n",
       "      <td>True</td>\n",
       "    </tr>\n",
       "    <tr>\n",
       "      <th>2</th>\n",
       "      <td>3</td>\n",
       "      <td>The Godfather: Part II</td>\n",
       "      <td>1974</td>\n",
       "      <td>R</td>\n",
       "      <td>20 Dec 1974</td>\n",
       "      <td>202 min</td>\n",
       "      <td>Crime, Drama</td>\n",
       "      <td>Francis Ford Coppola</td>\n",
       "      <td>Francis Ford Coppola (screenplay), Mario Puzo ...</td>\n",
       "      <td>Al Pacino, Robert Duvall, Diane Keaton, Robert...</td>\n",
       "      <td>...</td>\n",
       "      <td>NaN</td>\n",
       "      <td>NaN</td>\n",
       "      <td>NaN</td>\n",
       "      <td>NaN</td>\n",
       "      <td>http://www.rottentomatoes.com/m/godfather_part...</td>\n",
       "      <td>24 May 2005</td>\n",
       "      <td>NaN</td>\n",
       "      <td>Paramount Pictures</td>\n",
       "      <td>http://www.thegodfather.com/</td>\n",
       "      <td>True</td>\n",
       "    </tr>\n",
       "    <tr>\n",
       "      <th>3</th>\n",
       "      <td>4</td>\n",
       "      <td>The Dark Knight</td>\n",
       "      <td>2008</td>\n",
       "      <td>PG-13</td>\n",
       "      <td>18 Jul 2008</td>\n",
       "      <td>152 min</td>\n",
       "      <td>Action, Crime, Drama</td>\n",
       "      <td>Christopher Nolan</td>\n",
       "      <td>Jonathan Nolan (screenplay), Christopher Nolan...</td>\n",
       "      <td>Christian Bale, Heath Ledger, Aaron Eckhart, M...</td>\n",
       "      <td>...</td>\n",
       "      <td>NaN</td>\n",
       "      <td>NaN</td>\n",
       "      <td>NaN</td>\n",
       "      <td>NaN</td>\n",
       "      <td>http://www.rottentomatoes.com/m/the_dark_knight/</td>\n",
       "      <td>09 Dec 2008</td>\n",
       "      <td>$533,316,061</td>\n",
       "      <td>Warner Bros. Pictures/Legendary</td>\n",
       "      <td>http://thedarkknight.warnerbros.com/</td>\n",
       "      <td>True</td>\n",
       "    </tr>\n",
       "    <tr>\n",
       "      <th>4</th>\n",
       "      <td>5</td>\n",
       "      <td>12 Angry Men</td>\n",
       "      <td>1957</td>\n",
       "      <td>APPROVED</td>\n",
       "      <td>01 Apr 1957</td>\n",
       "      <td>96 min</td>\n",
       "      <td>Crime, Drama</td>\n",
       "      <td>Sidney Lumet</td>\n",
       "      <td>Reginald Rose (story), Reginald Rose (screenplay)</td>\n",
       "      <td>Martin Balsam, John Fiedler, Lee J. Cobb, E.G....</td>\n",
       "      <td>...</td>\n",
       "      <td>NaN</td>\n",
       "      <td>NaN</td>\n",
       "      <td>NaN</td>\n",
       "      <td>NaN</td>\n",
       "      <td>http://www.rottentomatoes.com/m/1000013-12_ang...</td>\n",
       "      <td>06 Mar 2001</td>\n",
       "      <td>NaN</td>\n",
       "      <td>Criterion Collection</td>\n",
       "      <td>http://www.criterion.com/films/27871-12-angry-men</td>\n",
       "      <td>True</td>\n",
       "    </tr>\n",
       "  </tbody>\n",
       "</table>\n",
       "<p>5 rows × 38 columns</p>\n",
       "</div>"
      ],
      "text/plain": [
       "   Unnamed: 0                     Title  Year     Rated     Released  Runtime  \\\n",
       "0           1  The Shawshank Redemption  1994         R  14 Oct 1994  142 min   \n",
       "1           2             The Godfather  1972         R  24 Mar 1972  175 min   \n",
       "2           3    The Godfather: Part II  1974         R  20 Dec 1974  202 min   \n",
       "3           4           The Dark Knight  2008     PG-13  18 Jul 2008  152 min   \n",
       "4           5              12 Angry Men  1957  APPROVED  01 Apr 1957   96 min   \n",
       "\n",
       "                  Genre              Director  \\\n",
       "0          Crime, Drama        Frank Darabont   \n",
       "1          Crime, Drama  Francis Ford Coppola   \n",
       "2          Crime, Drama  Francis Ford Coppola   \n",
       "3  Action, Crime, Drama     Christopher Nolan   \n",
       "4          Crime, Drama          Sidney Lumet   \n",
       "\n",
       "                                              Writer  \\\n",
       "0  Stephen King (short story \"Rita Hayworth and S...   \n",
       "1  Mario Puzo (screenplay), Francis Ford Coppola ...   \n",
       "2  Francis Ford Coppola (screenplay), Mario Puzo ...   \n",
       "3  Jonathan Nolan (screenplay), Christopher Nolan...   \n",
       "4  Reginald Rose (story), Reginald Rose (screenplay)   \n",
       "\n",
       "                                              Actors  ... tomatoConsensus  \\\n",
       "0  Tim Robbins, Morgan Freeman, Bob Gunton, Willi...  ...             NaN   \n",
       "1  Marlon Brando, Al Pacino, James Caan, Richard ...  ...             NaN   \n",
       "2  Al Pacino, Robert Duvall, Diane Keaton, Robert...  ...             NaN   \n",
       "3  Christian Bale, Heath Ledger, Aaron Eckhart, M...  ...             NaN   \n",
       "4  Martin Balsam, John Fiedler, Lee J. Cobb, E.G....  ...             NaN   \n",
       "\n",
       "  tomatoUserMeter tomatoUserRating tomatoUserReviews  \\\n",
       "0             NaN              NaN               NaN   \n",
       "1             NaN              NaN               NaN   \n",
       "2             NaN              NaN               NaN   \n",
       "3             NaN              NaN               NaN   \n",
       "4             NaN              NaN               NaN   \n",
       "\n",
       "                                           tomatoURL          DVD  \\\n",
       "0  http://www.rottentomatoes.com/m/shawshank_rede...  27 Jan 1998   \n",
       "1         http://www.rottentomatoes.com/m/godfather/  09 Oct 2001   \n",
       "2  http://www.rottentomatoes.com/m/godfather_part...  24 May 2005   \n",
       "3   http://www.rottentomatoes.com/m/the_dark_knight/  09 Dec 2008   \n",
       "4  http://www.rottentomatoes.com/m/1000013-12_ang...  06 Mar 2001   \n",
       "\n",
       "      BoxOffice                       Production  \\\n",
       "0           NaN                Columbia Pictures   \n",
       "1           NaN               Paramount Pictures   \n",
       "2           NaN               Paramount Pictures   \n",
       "3  $533,316,061  Warner Bros. Pictures/Legendary   \n",
       "4           NaN             Criterion Collection   \n",
       "\n",
       "                                             Website Response  \n",
       "0                                                NaN     True  \n",
       "1                        http://www.thegodfather.com     True  \n",
       "2                       http://www.thegodfather.com/     True  \n",
       "3               http://thedarkknight.warnerbros.com/     True  \n",
       "4  http://www.criterion.com/films/27871-12-angry-men     True  \n",
       "\n",
       "[5 rows x 38 columns]"
      ]
     },
     "execution_count": 597,
     "metadata": {},
     "output_type": "execute_result"
    }
   ],
   "source": [
    "df = pd.read_csv('movies_list.csv')\n",
    "df.head()"
   ]
  },
  {
   "cell_type": "code",
   "execution_count": 598,
   "metadata": {},
   "outputs": [
    {
     "name": "stdout",
     "output_type": "stream",
     "text": [
      "<class 'pandas.core.frame.DataFrame'>\n",
      "RangeIndex: 250 entries, 0 to 249\n",
      "Data columns (total 38 columns):\n",
      " #   Column             Non-Null Count  Dtype  \n",
      "---  ------             --------------  -----  \n",
      " 0   Unnamed: 0         250 non-null    int64  \n",
      " 1   Title              250 non-null    object \n",
      " 2   Year               250 non-null    int64  \n",
      " 3   Rated              250 non-null    object \n",
      " 4   Released           248 non-null    object \n",
      " 5   Runtime            250 non-null    object \n",
      " 6   Genre              250 non-null    object \n",
      " 7   Director           250 non-null    object \n",
      " 8   Writer             249 non-null    object \n",
      " 9   Actors             250 non-null    object \n",
      " 10  Plot               250 non-null    object \n",
      " 11  Language           250 non-null    object \n",
      " 12  Country            250 non-null    object \n",
      " 13  Awards             245 non-null    object \n",
      " 14  Poster             250 non-null    object \n",
      " 15  Ratings.Source     250 non-null    object \n",
      " 16  Ratings.Value      250 non-null    object \n",
      " 17  Metascore          177 non-null    float64\n",
      " 18  imdbRating         250 non-null    float64\n",
      " 19  imdbVotes          250 non-null    object \n",
      " 20  imdbID             250 non-null    object \n",
      " 21  Type               250 non-null    object \n",
      " 22  tomatoMeter        0 non-null      float64\n",
      " 23  tomatoImage        0 non-null      float64\n",
      " 24  tomatoRating       0 non-null      float64\n",
      " 25  tomatoReviews      0 non-null      float64\n",
      " 26  tomatoFresh        0 non-null      float64\n",
      " 27  tomatoRotten       0 non-null      float64\n",
      " 28  tomatoConsensus    0 non-null      float64\n",
      " 29  tomatoUserMeter    0 non-null      float64\n",
      " 30  tomatoUserRating   0 non-null      float64\n",
      " 31  tomatoUserReviews  0 non-null      float64\n",
      " 32  tomatoURL          250 non-null    object \n",
      " 33  DVD                247 non-null    object \n",
      " 34  BoxOffice          75 non-null     object \n",
      " 35  Production         250 non-null    object \n",
      " 36  Website            131 non-null    object \n",
      " 37  Response           250 non-null    bool   \n",
      "dtypes: bool(1), float64(12), int64(2), object(23)\n",
      "memory usage: 72.6+ KB\n"
     ]
    }
   ],
   "source": [
    "df.info()"
   ]
  },
  {
   "cell_type": "code",
   "execution_count": 599,
   "metadata": {},
   "outputs": [
    {
     "data": {
      "text/plain": [
       "Unnamed: 0             0\n",
       "Title                  0\n",
       "Year                   0\n",
       "Rated                  0\n",
       "Released               2\n",
       "Runtime                0\n",
       "Genre                  0\n",
       "Director               0\n",
       "Writer                 1\n",
       "Actors                 0\n",
       "Plot                   0\n",
       "Language               0\n",
       "Country                0\n",
       "Awards                 5\n",
       "Poster                 0\n",
       "Ratings.Source         0\n",
       "Ratings.Value          0\n",
       "Metascore             73\n",
       "imdbRating             0\n",
       "imdbVotes              0\n",
       "imdbID                 0\n",
       "Type                   0\n",
       "tomatoMeter          250\n",
       "tomatoImage          250\n",
       "tomatoRating         250\n",
       "tomatoReviews        250\n",
       "tomatoFresh          250\n",
       "tomatoRotten         250\n",
       "tomatoConsensus      250\n",
       "tomatoUserMeter      250\n",
       "tomatoUserRating     250\n",
       "tomatoUserReviews    250\n",
       "tomatoURL              0\n",
       "DVD                    3\n",
       "BoxOffice            175\n",
       "Production             0\n",
       "Website              119\n",
       "Response               0\n",
       "dtype: int64"
      ]
     },
     "execution_count": 599,
     "metadata": {},
     "output_type": "execute_result"
    }
   ],
   "source": [
    "df.isnull().sum()"
   ]
  },
  {
   "cell_type": "code",
   "execution_count": 600,
   "metadata": {},
   "outputs": [
    {
     "data": {
      "text/plain": [
       "0      Two imprisoned men bond over a number of years...\n",
       "1      The aging patriarch of an organized crime dyna...\n",
       "2      The early life and career of Vito Corleone in ...\n",
       "3      When the menace known as the Joker emerges fro...\n",
       "4      A jury holdout attempts to prevent a miscarria...\n",
       "                             ...                        \n",
       "245    The desperate life of a chronic alcoholic is f...\n",
       "246    A 20-something supervising staff member of a r...\n",
       "247    A newspaper editor uses every trick in the boo...\n",
       "248    An old man makes a long journey by lawn-mover ...\n",
       "249    A Mumbai teen reflects on his upbringing in th...\n",
       "Name: Plot, Length: 250, dtype: object"
      ]
     },
     "execution_count": 600,
     "metadata": {},
     "output_type": "execute_result"
    }
   ],
   "source": [
    "df.Plot"
   ]
  },
  {
   "cell_type": "markdown",
   "metadata": {},
   "source": [
    "#### Remove Punction"
   ]
  },
  {
   "cell_type": "code",
   "execution_count": 601,
   "metadata": {},
   "outputs": [],
   "source": [
    "import string\n",
    "punc = string.punctuation"
   ]
  },
  {
   "cell_type": "code",
   "execution_count": 602,
   "metadata": {},
   "outputs": [],
   "source": [
    "df.Plot = df.Plot.apply(lambda x : \"\".join([i for i in x if i not in punc]))\n",
    "#df['Plot'] = df['Plot'].str.replace('[ws]','')"
   ]
  },
  {
   "cell_type": "code",
   "execution_count": 603,
   "metadata": {},
   "outputs": [
    {
     "data": {
      "text/plain": [
       "0      Two imprisoned men bond over a number of years...\n",
       "1      The aging patriarch of an organized crime dyna...\n",
       "2      The early life and career of Vito Corleone in ...\n",
       "3      When the menace known as the Joker emerges fro...\n",
       "4      A jury holdout attempts to prevent a miscarria...\n",
       "                             ...                        \n",
       "245    The desperate life of a chronic alcoholic is f...\n",
       "246    A 20something supervising staff member of a re...\n",
       "247    A newspaper editor uses every trick in the boo...\n",
       "248    An old man makes a long journey by lawnmover t...\n",
       "249    A Mumbai teen reflects on his upbringing in th...\n",
       "Name: Plot, Length: 250, dtype: object"
      ]
     },
     "execution_count": 603,
     "metadata": {},
     "output_type": "execute_result"
    }
   ],
   "source": [
    "df.Plot"
   ]
  },
  {
   "cell_type": "code",
   "execution_count": 604,
   "metadata": {},
   "outputs": [],
   "source": [
    "rake = Rake()\n",
    "df['keywords'] = ''"
   ]
  },
  {
   "cell_type": "code",
   "execution_count": 605,
   "metadata": {},
   "outputs": [
    {
     "name": "stderr",
     "output_type": "stream",
     "text": [
      "C:\\Users\\shankesh\\AppData\\Local\\Temp\\ipykernel_11020\\1291899574.py:3: SettingWithCopyWarning: \n",
      "A value is trying to be set on a copy of a slice from a DataFrame\n",
      "\n",
      "See the caveats in the documentation: https://pandas.pydata.org/pandas-docs/stable/user_guide/indexing.html#returning-a-view-versus-a-copy\n",
      "  df['keywords'][index] = list(rake.get_word_degrees().keys())\n"
     ]
    }
   ],
   "source": [
    "for index, row in df.iterrows():\n",
    "    rake.extract_keywords_from_text(row.Plot)\n",
    "    df['keywords'][index] = list(rake.get_word_degrees().keys())"
   ]
  },
  {
   "cell_type": "code",
   "execution_count": 606,
   "metadata": {},
   "outputs": [
    {
     "data": {
      "text/plain": [
       "0      [two, imprisoned, men, bond, number, years, fi...\n",
       "1      [aging, patriarch, organized, crime, dynasty, ...\n",
       "2      [early, life, career, vito, corleone, 1920s, n...\n",
       "3      [menace, known, joker, emerges, mysterious, pa...\n",
       "4      [jury, holdout, attempts, prevent, miscarriage...\n",
       "                             ...                        \n",
       "245    [desperate, life, chronic, alcoholic, followed...\n",
       "246    [20something, supervising, staff, member, resi...\n",
       "247    [newspaper, editor, uses, every, trick, book, ...\n",
       "248    [old, man, makes, long, journey, lawnmover, tr...\n",
       "249    [mumbai, teen, reflects, upbringing, slums, ac...\n",
       "Name: keywords, Length: 250, dtype: object"
      ]
     },
     "execution_count": 606,
     "metadata": {},
     "output_type": "execute_result"
    }
   ],
   "source": [
    "df.keywords"
   ]
  },
  {
   "cell_type": "code",
   "execution_count": 607,
   "metadata": {},
   "outputs": [],
   "source": [
    "df.Genre = df.Genre.apply(lambda x : x.split(','))\n",
    "df.Actors = df.Actors.apply(lambda x : x.split(',')[:3])\n",
    "df.Director = df.Director.apply(lambda x : x.split(','))\n",
    "\n"
   ]
  },
  {
   "cell_type": "code",
   "execution_count": 608,
   "metadata": {},
   "outputs": [],
   "source": [
    "df.Genre = df.Genre.apply(lambda x : [i.lower().replace(' ','') for i in x])\n",
    "df.Actors = df.Actors.apply(lambda x : [i.lower().replace(' ','') for i in x])\n",
    "df.Director = df.Director.apply(lambda x : [i.lower().replace(' ','') for i in x])"
   ]
  },
  {
   "cell_type": "code",
   "execution_count": 609,
   "metadata": {},
   "outputs": [],
   "source": [
    "df['BOW'] = ''\n",
    "columns = ['Genre','Director','Actors','keywords']"
   ]
  },
  {
   "cell_type": "code",
   "execution_count": 610,
   "metadata": {},
   "outputs": [
    {
     "name": "stderr",
     "output_type": "stream",
     "text": [
      "C:\\Users\\shankesh\\AppData\\Local\\Temp\\ipykernel_11020\\232681186.py:5: SettingWithCopyWarning: \n",
      "A value is trying to be set on a copy of a slice from a DataFrame\n",
      "\n",
      "See the caveats in the documentation: https://pandas.pydata.org/pandas-docs/stable/user_guide/indexing.html#returning-a-view-versus-a-copy\n",
      "  df.BOW[index] = words\n"
     ]
    }
   ],
   "source": [
    "for index, row in df.iterrows():\n",
    "    words = ''\n",
    "    for col in columns:\n",
    "        words += ' '.join(row[col]) + ' '\n",
    "    df.BOW[index] = words"
   ]
  },
  {
   "cell_type": "code",
   "execution_count": 611,
   "metadata": {},
   "outputs": [],
   "source": [
    "df.BOW = df.BOW.str.strip().str.replace('   ', ' ').str.replace('  ', ' ')"
   ]
  },
  {
   "cell_type": "code",
   "execution_count": 612,
   "metadata": {},
   "outputs": [
    {
     "data": {
      "text/html": [
       "<div>\n",
       "<style scoped>\n",
       "    .dataframe tbody tr th:only-of-type {\n",
       "        vertical-align: middle;\n",
       "    }\n",
       "\n",
       "    .dataframe tbody tr th {\n",
       "        vertical-align: top;\n",
       "    }\n",
       "\n",
       "    .dataframe thead th {\n",
       "        text-align: right;\n",
       "    }\n",
       "</style>\n",
       "<table border=\"1\" class=\"dataframe\">\n",
       "  <thead>\n",
       "    <tr style=\"text-align: right;\">\n",
       "      <th></th>\n",
       "      <th>Title</th>\n",
       "      <th>BOW</th>\n",
       "    </tr>\n",
       "  </thead>\n",
       "  <tbody>\n",
       "    <tr>\n",
       "      <th>0</th>\n",
       "      <td>The Shawshank Redemption</td>\n",
       "      <td>crime drama frankdarabont timrobbins morganfre...</td>\n",
       "    </tr>\n",
       "    <tr>\n",
       "      <th>1</th>\n",
       "      <td>The Godfather</td>\n",
       "      <td>crime drama francisfordcoppola marlonbrando al...</td>\n",
       "    </tr>\n",
       "    <tr>\n",
       "      <th>2</th>\n",
       "      <td>The Godfather: Part II</td>\n",
       "      <td>crime drama francisfordcoppola alpacino robert...</td>\n",
       "    </tr>\n",
       "    <tr>\n",
       "      <th>3</th>\n",
       "      <td>The Dark Knight</td>\n",
       "      <td>action crime drama christophernolan christianb...</td>\n",
       "    </tr>\n",
       "    <tr>\n",
       "      <th>4</th>\n",
       "      <td>12 Angry Men</td>\n",
       "      <td>crime drama sidneylumet martinbalsam johnfiedl...</td>\n",
       "    </tr>\n",
       "    <tr>\n",
       "      <th>...</th>\n",
       "      <td>...</td>\n",
       "      <td>...</td>\n",
       "    </tr>\n",
       "    <tr>\n",
       "      <th>245</th>\n",
       "      <td>The Lost Weekend</td>\n",
       "      <td>drama film-noir billywilder raymilland janewym...</td>\n",
       "    </tr>\n",
       "    <tr>\n",
       "      <th>246</th>\n",
       "      <td>Short Term 12</td>\n",
       "      <td>drama destindanielcretton brielarson johngalla...</td>\n",
       "    </tr>\n",
       "    <tr>\n",
       "      <th>247</th>\n",
       "      <td>His Girl Friday</td>\n",
       "      <td>comedy drama romance howardhawks carygrant ros...</td>\n",
       "    </tr>\n",
       "    <tr>\n",
       "      <th>248</th>\n",
       "      <td>The Straight Story</td>\n",
       "      <td>biography drama davidlynch sissyspacek janegal...</td>\n",
       "    </tr>\n",
       "    <tr>\n",
       "      <th>249</th>\n",
       "      <td>Slumdog Millionaire</td>\n",
       "      <td>drama dannyboyle loveleentandan devpatel saura...</td>\n",
       "    </tr>\n",
       "  </tbody>\n",
       "</table>\n",
       "<p>250 rows × 2 columns</p>\n",
       "</div>"
      ],
      "text/plain": [
       "                        Title  \\\n",
       "0    The Shawshank Redemption   \n",
       "1               The Godfather   \n",
       "2      The Godfather: Part II   \n",
       "3             The Dark Knight   \n",
       "4                12 Angry Men   \n",
       "..                        ...   \n",
       "245          The Lost Weekend   \n",
       "246             Short Term 12   \n",
       "247           His Girl Friday   \n",
       "248        The Straight Story   \n",
       "249       Slumdog Millionaire   \n",
       "\n",
       "                                                   BOW  \n",
       "0    crime drama frankdarabont timrobbins morganfre...  \n",
       "1    crime drama francisfordcoppola marlonbrando al...  \n",
       "2    crime drama francisfordcoppola alpacino robert...  \n",
       "3    action crime drama christophernolan christianb...  \n",
       "4    crime drama sidneylumet martinbalsam johnfiedl...  \n",
       "..                                                 ...  \n",
       "245  drama film-noir billywilder raymilland janewym...  \n",
       "246  drama destindanielcretton brielarson johngalla...  \n",
       "247  comedy drama romance howardhawks carygrant ros...  \n",
       "248  biography drama davidlynch sissyspacek janegal...  \n",
       "249  drama dannyboyle loveleentandan devpatel saura...  \n",
       "\n",
       "[250 rows x 2 columns]"
      ]
     },
     "execution_count": 612,
     "metadata": {},
     "output_type": "execute_result"
    }
   ],
   "source": [
    "df[['Title','BOW']]"
   ]
  },
  {
   "cell_type": "markdown",
   "metadata": {},
   "source": [
    "### vectorization"
   ]
  },
  {
   "cell_type": "code",
   "execution_count": 613,
   "metadata": {},
   "outputs": [],
   "source": [
    "from sklearn.feature_extraction.text import CountVectorizer\n",
    "from sklearn.metrics.pairwise import cosine_similarity\n",
    "vector = CountVectorizer()\n",
    "vector_matrix = vector.fit_transform(df.BOW)\n",
    "cosine_sim = cosine_similarity(vector_matrix, vector_matrix)"
   ]
  },
  {
   "cell_type": "code",
   "execution_count": 614,
   "metadata": {},
   "outputs": [],
   "source": [
    "title = pd.Series(df.Title)"
   ]
  },
  {
   "cell_type": "code",
   "execution_count": 615,
   "metadata": {},
   "outputs": [
    {
     "data": {
      "text/plain": [
       "219"
      ]
     },
     "execution_count": 615,
     "metadata": {},
     "output_type": "execute_result"
    }
   ],
   "source": [
    "title[title == 'The Avengers'].index[0]"
   ]
  },
  {
   "cell_type": "code",
   "execution_count": 616,
   "metadata": {},
   "outputs": [],
   "source": [
    "def recommendation(name, cosine_sim = cosine_sim):\n",
    "    recommended_movies = []\n",
    "    idx = title[title == name].index[0]\n",
    "    score = pd.Series(cosine_sim[idx]).sort_values(ascending = False)\n",
    "    top5 = list(score.iloc[1:11].index)\n",
    "\n",
    "    for i in top5:\n",
    "        recommended_movies.append(list(df['Title'])[i])\n",
    "    \n",
    "    return recommended_movies\n"
   ]
  },
  {
   "cell_type": "code",
   "execution_count": 617,
   "metadata": {},
   "outputs": [
    {
     "data": {
      "text/plain": [
       "['Guardians of the Galaxy Vol. 2',\n",
       " 'Guardians of the Galaxy',\n",
       " 'Aliens',\n",
       " 'Terminator 2: Judgment Day',\n",
       " 'The Martian',\n",
       " 'The Terminator',\n",
       " 'The Thing',\n",
       " 'Interstellar',\n",
       " 'Spider-Man: Homecoming',\n",
       " 'The Matrix']"
      ]
     },
     "execution_count": 617,
     "metadata": {},
     "output_type": "execute_result"
    }
   ],
   "source": [
    "recommendation('The Avengers')"
   ]
  }
 ],
 "metadata": {
  "kernelspec": {
   "display_name": "Python 3.10.7 64-bit",
   "language": "python",
   "name": "python3"
  },
  "language_info": {
   "codemirror_mode": {
    "name": "ipython",
    "version": 3
   },
   "file_extension": ".py",
   "mimetype": "text/x-python",
   "name": "python",
   "nbconvert_exporter": "python",
   "pygments_lexer": "ipython3",
   "version": "3.10.7"
  },
  "orig_nbformat": 4,
  "vscode": {
   "interpreter": {
    "hash": "30f7c703543b98f74a265370aeedf5f5cf7efc2f0baf29f81611cc4f6bf8c141"
   }
  }
 },
 "nbformat": 4,
 "nbformat_minor": 2
}
