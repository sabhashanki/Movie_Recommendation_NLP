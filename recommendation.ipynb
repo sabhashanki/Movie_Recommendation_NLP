{
 "cells": [
  {
   "cell_type": "code",
   "execution_count": 569,
   "metadata": {},
   "outputs": [],
   "source": [
    "import pandas as pd\n",
    "import numpy as np\n",
    "from rake_nltk import Rake"
   ]
  },
  {
   "cell_type": "code",
   "execution_count": 591,
   "metadata": {},
   "outputs": [
    {
     "data": {
      "text/html": [
       "<div>\n",
       "<style scoped>\n",
       "    .dataframe tbody tr th:only-of-type {\n",
       "        vertical-align: middle;\n",
       "    }\n",
       "\n",
       "    .dataframe tbody tr th {\n",
       "        vertical-align: top;\n",
       "    }\n",
       "\n",
       "    .dataframe thead th {\n",
       "        text-align: right;\n",
       "    }\n",
       "</style>\n",
       "<table border=\"1\" class=\"dataframe\">\n",
       "  <thead>\n",
       "    <tr style=\"text-align: right;\">\n",
       "      <th></th>\n",
       "      <th>Unnamed: 0</th>\n",
       "      <th>Title</th>\n",
       "      <th>Year</th>\n",
       "      <th>Rated</th>\n",
       "      <th>Released</th>\n",
       "      <th>Runtime</th>\n",
       "      <th>Genre</th>\n",
       "      <th>Director</th>\n",
       "      <th>Writer</th>\n",
       "      <th>Actors</th>\n",
       "      <th>...</th>\n",
       "      <th>tomatoConsensus</th>\n",
       "      <th>tomatoUserMeter</th>\n",
       "      <th>tomatoUserRating</th>\n",
       "      <th>tomatoUserReviews</th>\n",
       "      <th>tomatoURL</th>\n",
       "      <th>DVD</th>\n",
       "      <th>BoxOffice</th>\n",
       "      <th>Production</th>\n",
       "      <th>Website</th>\n",
       "      <th>Response</th>\n",
       "    </tr>\n",
       "  </thead>\n",
       "  <tbody>\n",
       "    <tr>\n",
       "      <th>0</th>\n",
       "      <td>1</td>\n",
       "      <td>Hugo</td>\n",
       "      <td>2011</td>\n",
       "      <td>PG</td>\n",
       "      <td>23 Nov 2011</td>\n",
       "      <td>126 min</td>\n",
       "      <td>Adventure, Drama, Family</td>\n",
       "      <td>Martin Scorsese</td>\n",
       "      <td>John Logan (screenplay), Brian Selznick (book)</td>\n",
       "      <td>Ben Kingsley, Sacha Baron Cohen, Asa Butterfie...</td>\n",
       "      <td>...</td>\n",
       "      <td>NaN</td>\n",
       "      <td>NaN</td>\n",
       "      <td>NaN</td>\n",
       "      <td>NaN</td>\n",
       "      <td>http://www.rottentomatoes.com/m/hugo/</td>\n",
       "      <td>28 Feb 2012</td>\n",
       "      <td>$73,820,094</td>\n",
       "      <td>Paramount Studios</td>\n",
       "      <td>http://www.hugomovie.com/</td>\n",
       "      <td>True</td>\n",
       "    </tr>\n",
       "    <tr>\n",
       "      <th>1</th>\n",
       "      <td>2</td>\n",
       "      <td>Hugo</td>\n",
       "      <td>2011</td>\n",
       "      <td>PG</td>\n",
       "      <td>23 Nov 2011</td>\n",
       "      <td>126 min</td>\n",
       "      <td>Adventure, Drama, Family</td>\n",
       "      <td>Martin Scorsese</td>\n",
       "      <td>John Logan (screenplay), Brian Selznick (book)</td>\n",
       "      <td>Ben Kingsley, Sacha Baron Cohen, Asa Butterfie...</td>\n",
       "      <td>...</td>\n",
       "      <td>NaN</td>\n",
       "      <td>NaN</td>\n",
       "      <td>NaN</td>\n",
       "      <td>NaN</td>\n",
       "      <td>http://www.rottentomatoes.com/m/hugo/</td>\n",
       "      <td>28 Feb 2012</td>\n",
       "      <td>$73,820,094</td>\n",
       "      <td>Paramount Studios</td>\n",
       "      <td>http://www.hugomovie.com/</td>\n",
       "      <td>True</td>\n",
       "    </tr>\n",
       "    <tr>\n",
       "      <th>2</th>\n",
       "      <td>3</td>\n",
       "      <td>Jupiter Ascending</td>\n",
       "      <td>2015</td>\n",
       "      <td>PG-13</td>\n",
       "      <td>06 Feb 2015</td>\n",
       "      <td>127 min</td>\n",
       "      <td>Action, Adventure, Sci-Fi</td>\n",
       "      <td>Lana Wachowski, Lilly Wachowski</td>\n",
       "      <td>Lilly Wachowski, Lana Wachowski</td>\n",
       "      <td>Mila Kunis, Channing Tatum, Sean Bean, Eddie R...</td>\n",
       "      <td>...</td>\n",
       "      <td>NaN</td>\n",
       "      <td>NaN</td>\n",
       "      <td>NaN</td>\n",
       "      <td>NaN</td>\n",
       "      <td>http://www.rottentomatoes.com/m/jupiter_ascend...</td>\n",
       "      <td>02 Jun 2015</td>\n",
       "      <td>$43,733,037</td>\n",
       "      <td>Warner Bros. Pictures</td>\n",
       "      <td>http://www.jupiterascending.com/</td>\n",
       "      <td>True</td>\n",
       "    </tr>\n",
       "    <tr>\n",
       "      <th>3</th>\n",
       "      <td>4</td>\n",
       "      <td>X-Men: Apocalypse</td>\n",
       "      <td>2016</td>\n",
       "      <td>PG-13</td>\n",
       "      <td>27 May 2016</td>\n",
       "      <td>144 min</td>\n",
       "      <td>Action, Adventure, Sci-Fi</td>\n",
       "      <td>Bryan Singer</td>\n",
       "      <td>Simon Kinberg (screenplay), Bryan Singer (stor...</td>\n",
       "      <td>James McAvoy, Michael Fassbender, Jennifer Law...</td>\n",
       "      <td>...</td>\n",
       "      <td>NaN</td>\n",
       "      <td>NaN</td>\n",
       "      <td>NaN</td>\n",
       "      <td>NaN</td>\n",
       "      <td>http://www.rottentomatoes.com/m/x_men_apocalypse/</td>\n",
       "      <td>04 Oct 2016</td>\n",
       "      <td>$135,729,385</td>\n",
       "      <td>20th Century Fox</td>\n",
       "      <td>https://www.facebook.com/xmenmovies</td>\n",
       "      <td>True</td>\n",
       "    </tr>\n",
       "    <tr>\n",
       "      <th>4</th>\n",
       "      <td>5</td>\n",
       "      <td>Edge of Tomorrow</td>\n",
       "      <td>2014</td>\n",
       "      <td>PG-13</td>\n",
       "      <td>06 Jun 2014</td>\n",
       "      <td>113 min</td>\n",
       "      <td>Action, Adventure, Sci-Fi</td>\n",
       "      <td>Doug Liman</td>\n",
       "      <td>Christopher McQuarrie (screenplay), Jez Butter...</td>\n",
       "      <td>Tom Cruise, Emily Blunt, Brendan Gleeson, Bill...</td>\n",
       "      <td>...</td>\n",
       "      <td>NaN</td>\n",
       "      <td>NaN</td>\n",
       "      <td>NaN</td>\n",
       "      <td>NaN</td>\n",
       "      <td>http://www.rottentomatoes.com/m/live_die_repea...</td>\n",
       "      <td>07 Oct 2014</td>\n",
       "      <td>$77,121,429</td>\n",
       "      <td>Warner Bros. Pictures</td>\n",
       "      <td>http://www.edgeoftomorrowmovie.com</td>\n",
       "      <td>True</td>\n",
       "    </tr>\n",
       "  </tbody>\n",
       "</table>\n",
       "<p>5 rows × 38 columns</p>\n",
       "</div>"
      ],
      "text/plain": [
       "   Unnamed: 0              Title  Year  Rated     Released  Runtime  \\\n",
       "0           1               Hugo  2011     PG  23 Nov 2011  126 min   \n",
       "1           2               Hugo  2011     PG  23 Nov 2011  126 min   \n",
       "2           3  Jupiter Ascending  2015  PG-13  06 Feb 2015  127 min   \n",
       "3           4  X-Men: Apocalypse  2016  PG-13  27 May 2016  144 min   \n",
       "4           5   Edge of Tomorrow  2014  PG-13  06 Jun 2014  113 min   \n",
       "\n",
       "                       Genre                         Director  \\\n",
       "0   Adventure, Drama, Family                  Martin Scorsese   \n",
       "1   Adventure, Drama, Family                  Martin Scorsese   \n",
       "2  Action, Adventure, Sci-Fi  Lana Wachowski, Lilly Wachowski   \n",
       "3  Action, Adventure, Sci-Fi                     Bryan Singer   \n",
       "4  Action, Adventure, Sci-Fi                       Doug Liman   \n",
       "\n",
       "                                              Writer  \\\n",
       "0     John Logan (screenplay), Brian Selznick (book)   \n",
       "1     John Logan (screenplay), Brian Selznick (book)   \n",
       "2                    Lilly Wachowski, Lana Wachowski   \n",
       "3  Simon Kinberg (screenplay), Bryan Singer (stor...   \n",
       "4  Christopher McQuarrie (screenplay), Jez Butter...   \n",
       "\n",
       "                                              Actors  ... tomatoConsensus  \\\n",
       "0  Ben Kingsley, Sacha Baron Cohen, Asa Butterfie...  ...             NaN   \n",
       "1  Ben Kingsley, Sacha Baron Cohen, Asa Butterfie...  ...             NaN   \n",
       "2  Mila Kunis, Channing Tatum, Sean Bean, Eddie R...  ...             NaN   \n",
       "3  James McAvoy, Michael Fassbender, Jennifer Law...  ...             NaN   \n",
       "4  Tom Cruise, Emily Blunt, Brendan Gleeson, Bill...  ...             NaN   \n",
       "\n",
       "  tomatoUserMeter tomatoUserRating tomatoUserReviews  \\\n",
       "0             NaN              NaN               NaN   \n",
       "1             NaN              NaN               NaN   \n",
       "2             NaN              NaN               NaN   \n",
       "3             NaN              NaN               NaN   \n",
       "4             NaN              NaN               NaN   \n",
       "\n",
       "                                           tomatoURL          DVD  \\\n",
       "0              http://www.rottentomatoes.com/m/hugo/  28 Feb 2012   \n",
       "1              http://www.rottentomatoes.com/m/hugo/  28 Feb 2012   \n",
       "2  http://www.rottentomatoes.com/m/jupiter_ascend...  02 Jun 2015   \n",
       "3  http://www.rottentomatoes.com/m/x_men_apocalypse/  04 Oct 2016   \n",
       "4  http://www.rottentomatoes.com/m/live_die_repea...  07 Oct 2014   \n",
       "\n",
       "      BoxOffice             Production                              Website  \\\n",
       "0   $73,820,094      Paramount Studios            http://www.hugomovie.com/   \n",
       "1   $73,820,094      Paramount Studios            http://www.hugomovie.com/   \n",
       "2   $43,733,037  Warner Bros. Pictures     http://www.jupiterascending.com/   \n",
       "3  $135,729,385       20th Century Fox  https://www.facebook.com/xmenmovies   \n",
       "4   $77,121,429  Warner Bros. Pictures   http://www.edgeoftomorrowmovie.com   \n",
       "\n",
       "  Response  \n",
       "0     True  \n",
       "1     True  \n",
       "2     True  \n",
       "3     True  \n",
       "4     True  \n",
       "\n",
       "[5 rows x 38 columns]"
      ]
     },
     "execution_count": 591,
     "metadata": {},
     "output_type": "execute_result"
    }
   ],
   "source": [
    "df = pd.read_csv('IMDB_Top250Engmovies2_OMDB_Detailed.csv')\n",
    "df.head()"
   ]
  },
  {
   "cell_type": "code",
   "execution_count": 592,
   "metadata": {},
   "outputs": [
    {
     "name": "stdout",
     "output_type": "stream",
     "text": [
      "<class 'pandas.core.frame.DataFrame'>\n",
      "RangeIndex: 4848 entries, 0 to 4847\n",
      "Data columns (total 38 columns):\n",
      " #   Column             Non-Null Count  Dtype  \n",
      "---  ------             --------------  -----  \n",
      " 0   Unnamed: 0         4848 non-null   int64  \n",
      " 1   Title              4848 non-null   object \n",
      " 2   Year               4848 non-null   int64  \n",
      " 3   Rated              4577 non-null   object \n",
      " 4   Released           4820 non-null   object \n",
      " 5   Runtime            4833 non-null   object \n",
      " 6   Genre              4846 non-null   object \n",
      " 7   Director           4847 non-null   object \n",
      " 8   Writer             4798 non-null   object \n",
      " 9   Actors             4841 non-null   object \n",
      " 10  Plot               4837 non-null   object \n",
      " 11  Language           4839 non-null   object \n",
      " 12  Country            4846 non-null   object \n",
      " 13  Awards             4108 non-null   object \n",
      " 14  Poster             4834 non-null   object \n",
      " 15  Ratings.Source     4848 non-null   object \n",
      " 16  Ratings.Value      4848 non-null   object \n",
      " 17  Metascore          3798 non-null   float64\n",
      " 18  imdbRating         4848 non-null   float64\n",
      " 19  imdbVotes          4848 non-null   object \n",
      " 20  imdbID             4848 non-null   object \n",
      " 21  Type               4848 non-null   object \n",
      " 22  tomatoMeter        0 non-null      float64\n",
      " 23  tomatoImage        0 non-null      float64\n",
      " 24  tomatoRating       0 non-null      float64\n",
      " 25  tomatoReviews      0 non-null      float64\n",
      " 26  tomatoFresh        0 non-null      float64\n",
      " 27  tomatoRotten       0 non-null      float64\n",
      " 28  tomatoConsensus    0 non-null      float64\n",
      " 29  tomatoUserMeter    0 non-null      float64\n",
      " 30  tomatoUserRating   0 non-null      float64\n",
      " 31  tomatoUserReviews  0 non-null      float64\n",
      " 32  tomatoURL          4779 non-null   object \n",
      " 33  DVD                4597 non-null   object \n",
      " 34  BoxOffice          2505 non-null   object \n",
      " 35  Production         4621 non-null   object \n",
      " 36  Website            3341 non-null   object \n",
      " 37  Response           4848 non-null   bool   \n",
      "dtypes: bool(1), float64(12), int64(2), object(23)\n",
      "memory usage: 1.4+ MB\n"
     ]
    }
   ],
   "source": [
    "df.info()"
   ]
  },
  {
   "cell_type": "code",
   "execution_count": 593,
   "metadata": {},
   "outputs": [
    {
     "data": {
      "text/plain": [
       "Unnamed: 0              0\n",
       "Title                   0\n",
       "Year                    0\n",
       "Rated                 271\n",
       "Released               28\n",
       "Runtime                15\n",
       "Genre                   2\n",
       "Director                1\n",
       "Writer                 50\n",
       "Actors                  7\n",
       "Plot                   11\n",
       "Language                9\n",
       "Country                 2\n",
       "Awards                740\n",
       "Poster                 14\n",
       "Ratings.Source          0\n",
       "Ratings.Value           0\n",
       "Metascore            1050\n",
       "imdbRating              0\n",
       "imdbVotes               0\n",
       "imdbID                  0\n",
       "Type                    0\n",
       "tomatoMeter          4848\n",
       "tomatoImage          4848\n",
       "tomatoRating         4848\n",
       "tomatoReviews        4848\n",
       "tomatoFresh          4848\n",
       "tomatoRotten         4848\n",
       "tomatoConsensus      4848\n",
       "tomatoUserMeter      4848\n",
       "tomatoUserRating     4848\n",
       "tomatoUserReviews    4848\n",
       "tomatoURL              69\n",
       "DVD                   251\n",
       "BoxOffice            2343\n",
       "Production            227\n",
       "Website              1507\n",
       "Response                0\n",
       "dtype: int64"
      ]
     },
     "execution_count": 593,
     "metadata": {},
     "output_type": "execute_result"
    }
   ],
   "source": [
    "df.isnull().sum()"
   ]
  },
  {
   "cell_type": "code",
   "execution_count": 573,
   "metadata": {},
   "outputs": [
    {
     "data": {
      "text/plain": [
       "0      Two imprisoned men bond over a number of years...\n",
       "1      The aging patriarch of an organized crime dyna...\n",
       "2      The early life and career of Vito Corleone in ...\n",
       "3      When the menace known as the Joker emerges fro...\n",
       "4      A jury holdout attempts to prevent a miscarria...\n",
       "                             ...                        \n",
       "245    The desperate life of a chronic alcoholic is f...\n",
       "246    A 20-something supervising staff member of a r...\n",
       "247    A newspaper editor uses every trick in the boo...\n",
       "248    An old man makes a long journey by lawn-mover ...\n",
       "249    A Mumbai teen reflects on his upbringing in th...\n",
       "Name: Plot, Length: 250, dtype: object"
      ]
     },
     "execution_count": 573,
     "metadata": {},
     "output_type": "execute_result"
    }
   ],
   "source": [
    "df.Plot"
   ]
  },
  {
   "cell_type": "markdown",
   "metadata": {},
   "source": [
    "#### Remove Punction"
   ]
  },
  {
   "cell_type": "code",
   "execution_count": 574,
   "metadata": {},
   "outputs": [],
   "source": [
    "import string\n",
    "punc = string.punctuation"
   ]
  },
  {
   "cell_type": "code",
   "execution_count": 575,
   "metadata": {},
   "outputs": [],
   "source": [
    "df.Plot = df.Plot.apply(lambda x : \"\".join([i for i in x if i not in punc]))\n",
    "#df['Plot'] = df['Plot'].str.replace('[ws]','')"
   ]
  },
  {
   "cell_type": "code",
   "execution_count": 576,
   "metadata": {},
   "outputs": [
    {
     "data": {
      "text/plain": [
       "0      Two imprisoned men bond over a number of years...\n",
       "1      The aging patriarch of an organized crime dyna...\n",
       "2      The early life and career of Vito Corleone in ...\n",
       "3      When the menace known as the Joker emerges fro...\n",
       "4      A jury holdout attempts to prevent a miscarria...\n",
       "                             ...                        \n",
       "245    The desperate life of a chronic alcoholic is f...\n",
       "246    A 20something supervising staff member of a re...\n",
       "247    A newspaper editor uses every trick in the boo...\n",
       "248    An old man makes a long journey by lawnmover t...\n",
       "249    A Mumbai teen reflects on his upbringing in th...\n",
       "Name: Plot, Length: 250, dtype: object"
      ]
     },
     "execution_count": 576,
     "metadata": {},
     "output_type": "execute_result"
    }
   ],
   "source": [
    "df.Plot"
   ]
  },
  {
   "cell_type": "code",
   "execution_count": 577,
   "metadata": {},
   "outputs": [],
   "source": [
    "rake = Rake()\n",
    "df['keywords'] = ''"
   ]
  },
  {
   "cell_type": "code",
   "execution_count": 578,
   "metadata": {},
   "outputs": [
    {
     "name": "stderr",
     "output_type": "stream",
     "text": [
      "C:\\Users\\shankesh\\AppData\\Local\\Temp\\ipykernel_11020\\1291899574.py:3: SettingWithCopyWarning: \n",
      "A value is trying to be set on a copy of a slice from a DataFrame\n",
      "\n",
      "See the caveats in the documentation: https://pandas.pydata.org/pandas-docs/stable/user_guide/indexing.html#returning-a-view-versus-a-copy\n",
      "  df['keywords'][index] = list(rake.get_word_degrees().keys())\n"
     ]
    }
   ],
   "source": [
    "for index, row in df.iterrows():\n",
    "    rake.extract_keywords_from_text(row.Plot)\n",
    "    df['keywords'][index] = list(rake.get_word_degrees().keys())"
   ]
  },
  {
   "cell_type": "code",
   "execution_count": 579,
   "metadata": {},
   "outputs": [
    {
     "data": {
      "text/plain": [
       "0      [two, imprisoned, men, bond, number, years, fi...\n",
       "1      [aging, patriarch, organized, crime, dynasty, ...\n",
       "2      [early, life, career, vito, corleone, 1920s, n...\n",
       "3      [menace, known, joker, emerges, mysterious, pa...\n",
       "4      [jury, holdout, attempts, prevent, miscarriage...\n",
       "                             ...                        \n",
       "245    [desperate, life, chronic, alcoholic, followed...\n",
       "246    [20something, supervising, staff, member, resi...\n",
       "247    [newspaper, editor, uses, every, trick, book, ...\n",
       "248    [old, man, makes, long, journey, lawnmover, tr...\n",
       "249    [mumbai, teen, reflects, upbringing, slums, ac...\n",
       "Name: keywords, Length: 250, dtype: object"
      ]
     },
     "execution_count": 579,
     "metadata": {},
     "output_type": "execute_result"
    }
   ],
   "source": [
    "df.keywords"
   ]
  },
  {
   "cell_type": "code",
   "execution_count": 580,
   "metadata": {},
   "outputs": [],
   "source": [
    "df.Genre = df.Genre.apply(lambda x : x.split(','))\n",
    "df.Actors = df.Actors.apply(lambda x : x.split(',')[:3])\n",
    "df.Director = df.Director.apply(lambda x : x.split(','))\n",
    "\n"
   ]
  },
  {
   "cell_type": "code",
   "execution_count": 581,
   "metadata": {},
   "outputs": [],
   "source": [
    "df.Genre = df.Genre.apply(lambda x : [i.lower().replace(' ','') for i in x])\n",
    "df.Actors = df.Actors.apply(lambda x : [i.lower().replace(' ','') for i in x])\n",
    "df.Director = df.Director.apply(lambda x : [i.lower().replace(' ','') for i in x])"
   ]
  },
  {
   "cell_type": "code",
   "execution_count": 582,
   "metadata": {},
   "outputs": [],
   "source": [
    "df['BOW'] = ''\n",
    "columns = ['Genre','Director','Actors','keywords']"
   ]
  },
  {
   "cell_type": "code",
   "execution_count": 583,
   "metadata": {},
   "outputs": [
    {
     "name": "stderr",
     "output_type": "stream",
     "text": [
      "C:\\Users\\shankesh\\AppData\\Local\\Temp\\ipykernel_11020\\232681186.py:5: SettingWithCopyWarning: \n",
      "A value is trying to be set on a copy of a slice from a DataFrame\n",
      "\n",
      "See the caveats in the documentation: https://pandas.pydata.org/pandas-docs/stable/user_guide/indexing.html#returning-a-view-versus-a-copy\n",
      "  df.BOW[index] = words\n"
     ]
    }
   ],
   "source": [
    "for index, row in df.iterrows():\n",
    "    words = ''\n",
    "    for col in columns:\n",
    "        words += ' '.join(row[col]) + ' '\n",
    "    df.BOW[index] = words"
   ]
  },
  {
   "cell_type": "code",
   "execution_count": 584,
   "metadata": {},
   "outputs": [],
   "source": [
    "df.BOW = df.BOW.str.strip().str.replace('   ', ' ').str.replace('  ', ' ')"
   ]
  },
  {
   "cell_type": "code",
   "execution_count": 585,
   "metadata": {},
   "outputs": [
    {
     "data": {
      "text/html": [
       "<div>\n",
       "<style scoped>\n",
       "    .dataframe tbody tr th:only-of-type {\n",
       "        vertical-align: middle;\n",
       "    }\n",
       "\n",
       "    .dataframe tbody tr th {\n",
       "        vertical-align: top;\n",
       "    }\n",
       "\n",
       "    .dataframe thead th {\n",
       "        text-align: right;\n",
       "    }\n",
       "</style>\n",
       "<table border=\"1\" class=\"dataframe\">\n",
       "  <thead>\n",
       "    <tr style=\"text-align: right;\">\n",
       "      <th></th>\n",
       "      <th>Title</th>\n",
       "      <th>BOW</th>\n",
       "    </tr>\n",
       "  </thead>\n",
       "  <tbody>\n",
       "    <tr>\n",
       "      <th>0</th>\n",
       "      <td>The Shawshank Redemption</td>\n",
       "      <td>crime drama frankdarabont timrobbins morganfre...</td>\n",
       "    </tr>\n",
       "    <tr>\n",
       "      <th>1</th>\n",
       "      <td>The Godfather</td>\n",
       "      <td>crime drama francisfordcoppola marlonbrando al...</td>\n",
       "    </tr>\n",
       "    <tr>\n",
       "      <th>2</th>\n",
       "      <td>The Godfather: Part II</td>\n",
       "      <td>crime drama francisfordcoppola alpacino robert...</td>\n",
       "    </tr>\n",
       "    <tr>\n",
       "      <th>3</th>\n",
       "      <td>The Dark Knight</td>\n",
       "      <td>action crime drama christophernolan christianb...</td>\n",
       "    </tr>\n",
       "    <tr>\n",
       "      <th>4</th>\n",
       "      <td>12 Angry Men</td>\n",
       "      <td>crime drama sidneylumet martinbalsam johnfiedl...</td>\n",
       "    </tr>\n",
       "    <tr>\n",
       "      <th>...</th>\n",
       "      <td>...</td>\n",
       "      <td>...</td>\n",
       "    </tr>\n",
       "    <tr>\n",
       "      <th>245</th>\n",
       "      <td>The Lost Weekend</td>\n",
       "      <td>drama film-noir billywilder raymilland janewym...</td>\n",
       "    </tr>\n",
       "    <tr>\n",
       "      <th>246</th>\n",
       "      <td>Short Term 12</td>\n",
       "      <td>drama destindanielcretton brielarson johngalla...</td>\n",
       "    </tr>\n",
       "    <tr>\n",
       "      <th>247</th>\n",
       "      <td>His Girl Friday</td>\n",
       "      <td>comedy drama romance howardhawks carygrant ros...</td>\n",
       "    </tr>\n",
       "    <tr>\n",
       "      <th>248</th>\n",
       "      <td>The Straight Story</td>\n",
       "      <td>biography drama davidlynch sissyspacek janegal...</td>\n",
       "    </tr>\n",
       "    <tr>\n",
       "      <th>249</th>\n",
       "      <td>Slumdog Millionaire</td>\n",
       "      <td>drama dannyboyle loveleentandan devpatel saura...</td>\n",
       "    </tr>\n",
       "  </tbody>\n",
       "</table>\n",
       "<p>250 rows × 2 columns</p>\n",
       "</div>"
      ],
      "text/plain": [
       "                        Title  \\\n",
       "0    The Shawshank Redemption   \n",
       "1               The Godfather   \n",
       "2      The Godfather: Part II   \n",
       "3             The Dark Knight   \n",
       "4                12 Angry Men   \n",
       "..                        ...   \n",
       "245          The Lost Weekend   \n",
       "246             Short Term 12   \n",
       "247           His Girl Friday   \n",
       "248        The Straight Story   \n",
       "249       Slumdog Millionaire   \n",
       "\n",
       "                                                   BOW  \n",
       "0    crime drama frankdarabont timrobbins morganfre...  \n",
       "1    crime drama francisfordcoppola marlonbrando al...  \n",
       "2    crime drama francisfordcoppola alpacino robert...  \n",
       "3    action crime drama christophernolan christianb...  \n",
       "4    crime drama sidneylumet martinbalsam johnfiedl...  \n",
       "..                                                 ...  \n",
       "245  drama film-noir billywilder raymilland janewym...  \n",
       "246  drama destindanielcretton brielarson johngalla...  \n",
       "247  comedy drama romance howardhawks carygrant ros...  \n",
       "248  biography drama davidlynch sissyspacek janegal...  \n",
       "249  drama dannyboyle loveleentandan devpatel saura...  \n",
       "\n",
       "[250 rows x 2 columns]"
      ]
     },
     "execution_count": 585,
     "metadata": {},
     "output_type": "execute_result"
    }
   ],
   "source": [
    "df[['Title','BOW']]"
   ]
  },
  {
   "cell_type": "markdown",
   "metadata": {},
   "source": [
    "### vectorization"
   ]
  },
  {
   "cell_type": "code",
   "execution_count": 586,
   "metadata": {},
   "outputs": [],
   "source": [
    "from sklearn.feature_extraction.text import CountVectorizer\n",
    "from sklearn.metrics.pairwise import cosine_similarity\n",
    "vector = CountVectorizer()\n",
    "vector_matrix = vector.fit_transform(df.BOW)\n",
    "cosine_sim = cosine_similarity(vector_matrix, vector_matrix)"
   ]
  },
  {
   "cell_type": "code",
   "execution_count": 587,
   "metadata": {},
   "outputs": [],
   "source": [
    "title = pd.Series(df.Title)"
   ]
  },
  {
   "cell_type": "code",
   "execution_count": 588,
   "metadata": {},
   "outputs": [
    {
     "data": {
      "text/plain": [
       "219"
      ]
     },
     "execution_count": 588,
     "metadata": {},
     "output_type": "execute_result"
    }
   ],
   "source": [
    "title[title == 'The Avengers'].index[0]"
   ]
  },
  {
   "cell_type": "code",
   "execution_count": 589,
   "metadata": {},
   "outputs": [],
   "source": [
    "def recommendation(name, cosine_sim = cosine_sim):\n",
    "    recommended_movies = []\n",
    "    idx = title[title == name].index[0]\n",
    "    score = pd.Series(cosine_sim[idx]).sort_values(ascending = False)\n",
    "    top5 = list(score.iloc[1:11].index)\n",
    "\n",
    "    for i in top5:\n",
    "        recommended_movies.append(list(df['Title'])[i])\n",
    "    \n",
    "    return recommended_movies\n"
   ]
  },
  {
   "cell_type": "code",
   "execution_count": 590,
   "metadata": {},
   "outputs": [
    {
     "data": {
      "text/plain": [
       "['Guardians of the Galaxy Vol. 2',\n",
       " 'Guardians of the Galaxy',\n",
       " 'Aliens',\n",
       " 'Terminator 2: Judgment Day',\n",
       " 'The Martian',\n",
       " 'The Terminator',\n",
       " 'The Thing',\n",
       " 'Interstellar',\n",
       " 'Spider-Man: Homecoming',\n",
       " 'The Matrix']"
      ]
     },
     "execution_count": 590,
     "metadata": {},
     "output_type": "execute_result"
    }
   ],
   "source": [
    "recommendation('The Avengers')"
   ]
  }
 ],
 "metadata": {
  "kernelspec": {
   "display_name": "Python 3.10.7 64-bit",
   "language": "python",
   "name": "python3"
  },
  "language_info": {
   "codemirror_mode": {
    "name": "ipython",
    "version": 3
   },
   "file_extension": ".py",
   "mimetype": "text/x-python",
   "name": "python",
   "nbconvert_exporter": "python",
   "pygments_lexer": "ipython3",
   "version": "3.10.7"
  },
  "orig_nbformat": 4,
  "vscode": {
   "interpreter": {
    "hash": "30f7c703543b98f74a265370aeedf5f5cf7efc2f0baf29f81611cc4f6bf8c141"
   }
  }
 },
 "nbformat": 4,
 "nbformat_minor": 2
}
